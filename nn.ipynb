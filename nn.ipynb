{
 "cells": [
  {
   "cell_type": "markdown",
   "id": "9c729214-d8da-4eec-8987-a5b2f99f1892",
   "metadata": {},
   "source": [
    "# CSCE 5214 Project 1"
   ]
  },
  {
   "cell_type": "code",
   "execution_count": 1,
   "id": "a5d7e225-2219-4deb-af57-13cc15c07d63",
   "metadata": {},
   "outputs": [],
   "source": [
    "import torch"
   ]
  },
  {
   "cell_type": "code",
   "execution_count": null,
   "id": "6612b8b0-2dbc-451c-878a-2515c724d209",
   "metadata": {},
   "outputs": [],
   "source": []
  }
 ],
 "metadata": {
  "kernelspec": {
   "display_name": "Python 3 (ipykernel)",
   "language": "python",
   "name": "python3"
  },
  "language_info": {
   "codemirror_mode": {
    "name": "ipython",
    "version": 3
   },
   "file_extension": ".py",
   "mimetype": "text/x-python",
   "name": "python",
   "nbconvert_exporter": "python",
   "pygments_lexer": "ipython3",
   "version": "3.9.21"
  }
 },
 "nbformat": 4,
 "nbformat_minor": 5
}
